{
 "cells": [
  {
   "cell_type": "code",
   "execution_count": 2,
   "metadata": {},
   "outputs": [],
   "source": [
    "import numpy as np\n",
    "import cv2\n",
    "from keras.preprocessing import image"
   ]
  },
  {
   "cell_type": "code",
   "execution_count": 4,
   "metadata": {},
   "outputs": [],
   "source": [
    "# detect face with opencv\n",
    "face_cascade = cv2.CascadeClassifier(\"haarcascade/haarcascade_frontalface_default.xml\") \n",
    "cap = cv2.VideoCapture(0)\n",
    "from keras.models import model_from_json\n",
    "model = model_from_json(open(\"model_structure.json\", \"r\").read())\n",
    "model.load_weights('model_weights.h5') #load weights"
   ]
  },
  {
   "cell_type": "code",
   "execution_count": 5,
   "metadata": {},
   "outputs": [],
   "source": [
    "emotions = ('angry', 'disgust', 'fear', 'happy', 'sad', 'surprise', 'neutral')"
   ]
  },
  {
   "cell_type": "code",
   "execution_count": 7,
   "metadata": {},
   "outputs": [],
   "source": [
    "while True:\n",
    "    ret, img = cap.read()\n",
    "    gray = cv2.cvtColor(img, cv2.COLOR_BGR2GRAY)\n",
    "    faces = face_cascade.detectMultiScale(gray, 1.3, 5)\n",
    "    \n",
    "    for (x, y, w, h) in faces:\n",
    "        cv2.rectangle(img, (x, y), (x+w, y+h), (255, 0, 0), 2) # draw rectangle around faces\n",
    "        \n",
    "        detected_face = img[int(y):int(y+h), int(x):int(x+w)] # crop faces\n",
    "        detected_face = cv2.cvtColor(detected_face, cv2.COLOR_BGR2GRAY) # convert to grayscale\n",
    "        detected_face = cv2.resize(detected_face, (48, 48)) #resize to 48 x 48\n",
    "        img_pixel = image.img_to_array(detected_face)\n",
    "        img_pixel = np.expand_dims(img_pixel, axis=0)\n",
    "        img_pixel /= 255\n",
    "        \n",
    "        prediction = model.predict(img_pixel) # probabilities of 7 emotion\n",
    "        \n",
    "        max_index = np.argmax(prediction[0]) # find max index emotion \n",
    "        \n",
    "        emotion = emotions[max_index]\n",
    "        cv2.putText(img, emotion, (int(x), int(y)), cv2.FONT_HERSHEY_SIMPLEX, 1, (255,255,255), 2)\n",
    "    cv2.imshow(\"img\", img)\n",
    "    if cv2.waitKey(1) & 0xFF == ord('q'): #press q to quit\n",
    "        break\n",
    "        \n",
    "cap.release()\n",
    "cv2.destroyAllWindows()"
   ]
  }
 ],
 "metadata": {
  "kernelspec": {
   "display_name": "tensorflowenv",
   "language": "python",
   "name": "tensorflowenv"
  },
  "language_info": {
   "codemirror_mode": {
    "name": "ipython",
    "version": 3
   },
   "file_extension": ".py",
   "mimetype": "text/x-python",
   "name": "python",
   "nbconvert_exporter": "python",
   "pygments_lexer": "ipython3",
   "version": "3.6.8"
  }
 },
 "nbformat": 4,
 "nbformat_minor": 2
}
