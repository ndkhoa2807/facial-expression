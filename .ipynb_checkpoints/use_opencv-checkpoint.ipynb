{
 "cells": [
  {
   "cell_type": "code",
   "execution_count": 1,
   "metadata": {},
   "outputs": [
    {
     "name": "stderr",
     "output_type": "stream",
     "text": [
      "Using TensorFlow backend.\n"
     ]
    }
   ],
   "source": [
    "import cv2\n",
    "import keras\n",
    "import matplotlib.pyplot as plt\n",
    "import numpy as np"
   ]
  },
  {
   "cell_type": "code",
   "execution_count": 6,
   "metadata": {},
   "outputs": [],
   "source": [
    "def get_faces(img_path, show_result=False):\n",
    "    face_cascade = cv2.CascadeClassifier('haarcascade/haarcascade_frontalface_default.xml')\n",
    "    img = cv2.imread(img_path)\n",
    "    if img is None:\n",
    "        print('''Can't find image ''')\n",
    "    else:\n",
    "        gray = cv2.cvtColor(img, cv2.COLOR_BGR2GRAY)\n",
    "        faces = face_cascade.detectMultiScale(img, 1.1, 3)\n",
    "        if (faces is None):\n",
    "            print('Failed to detect face')\n",
    "            return 0\n",
    "        else:\n",
    "            if show_result is True:\n",
    "                for (x, y, w, h) in faces:\n",
    "                    cv2.rectangle(img, (x,y),(x+w,y+h),(255,0,0), 2)\n",
    "                    cv2.imshow('img',img)\n",
    "                    cv2.waitKey(0)\n",
    "                    cv2.destroyAllWindows()\n",
    "            face_count = len(faces)\n",
    "            print(f\"Total face detected: {face_count}\")\n",
    "            i = 0\n",
    "            height, width = img.shape[:2]\n",
    "            for (x, y, w, h) in faces:\n",
    "                r = max(w, h) / 2\n",
    "                centerx = x + w / 2\n",
    "                centery = y + h / 2\n",
    "                nx = int(centerx - r)\n",
    "                ny = int(centery - r)\n",
    "                nr = int(r * 2)\n",
    "\n",
    "                faceimg = img[ny:ny+nr, nx:nx+nr]\n",
    "                lastimg = cv2.resize(faceimg, (48, 48))\n",
    "                \n",
    "    return lastimg"
   ]
  },
  {
   "cell_type": "code",
   "execution_count": 7,
   "metadata": {},
   "outputs": [
    {
     "name": "stdout",
     "output_type": "stream",
     "text": [
      "Total face detected: 1\n"
     ]
    }
   ],
   "source": [
    "face = get_faces('test_img/angry.jpg', show_result=False)"
   ]
  },
  {
   "cell_type": "code",
   "execution_count": 10,
   "metadata": {},
   "outputs": [
    {
     "data": {
      "text/plain": [
       "(48, 48, 3)"
      ]
     },
     "execution_count": 10,
     "metadata": {},
     "output_type": "execute_result"
    }
   ],
   "source": [
    "face.shape"
   ]
  }
 ],
 "metadata": {
  "kernelspec": {
   "display_name": "tensorflowenv",
   "language": "python",
   "name": "tensorflowenv"
  },
  "language_info": {
   "codemirror_mode": {
    "name": "ipython",
    "version": 3
   },
   "file_extension": ".py",
   "mimetype": "text/x-python",
   "name": "python",
   "nbconvert_exporter": "python",
   "pygments_lexer": "ipython3",
   "version": "3.6.8"
  }
 },
 "nbformat": 4,
 "nbformat_minor": 2
}
