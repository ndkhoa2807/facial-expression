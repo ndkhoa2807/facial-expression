{
 "cells": [
  {
   "cell_type": "code",
   "execution_count": 1,
   "metadata": {
    "colab": {
     "base_uri": "https://localhost:8080/",
     "height": 34
    },
    "colab_type": "code",
    "id": "pLH_cOFt619X",
    "outputId": "f9e64278-5ff9-4d1c-e05c-68fd52c40e13"
   },
   "outputs": [
    {
     "name": "stderr",
     "output_type": "stream",
     "text": [
      "Using TensorFlow backend.\n"
     ]
    }
   ],
   "source": [
    "import tensorflow as tf\n",
    "\n",
    "import keras\n",
    "from keras.models import Sequential\n",
    "from keras.layers import Conv2D, MaxPooling2D, AveragePooling2D\n",
    "from keras.layers import Dense, Activation, Dropout, Flatten\n",
    "\n",
    "from keras.preprocessing import image\n",
    "from keras.preprocessing.image import ImageDataGenerator\n",
    "\n",
    "import numpy as np\n",
    "import matplotlib.pyplot as plt"
   ]
  },
  {
   "cell_type": "code",
   "execution_count": 0,
   "metadata": {
    "colab": {},
    "colab_type": "code",
    "id": "mR348Vb_619e"
   },
   "outputs": [],
   "source": [
    "num_classes = 7 #angry, disgust, fear, happy, sad, surprise, neutral\n",
    "batch_size = 256\n",
    "epochs = 20"
   ]
  },
  {
   "cell_type": "code",
   "execution_count": 0,
   "metadata": {
    "colab": {},
    "colab_type": "code",
    "id": "O3pOc3Ls619i"
   },
   "outputs": [],
   "source": [
    "with open('/content/fer2013.csv') as f:\n",
    "    content = f.readlines()\n",
    "lines = np.array(content)"
   ]
  },
  {
   "cell_type": "code",
   "execution_count": 4,
   "metadata": {
    "colab": {
     "base_uri": "https://localhost:8080/",
     "height": 51
    },
    "colab_type": "code",
    "id": "wI1p3Bmy619l",
    "outputId": "3dd4f45d-2eaf-46b0-8925-67e42f92206e"
   },
   "outputs": [
    {
     "name": "stdout",
     "output_type": "stream",
     "text": [
      "number of instance:  35888\n",
      "instance length:  2304\n"
     ]
    }
   ],
   "source": [
    "num_of_instances = lines.size\n",
    "print(\"number of instance: \", num_of_instances)\n",
    "print(\"instance length: \",len(lines[1].split(\",\")[1].split(\" \")))"
   ]
  },
  {
   "cell_type": "code",
   "execution_count": 5,
   "metadata": {
    "colab": {
     "base_uri": "https://localhost:8080/",
     "height": 51
    },
    "colab_type": "code",
    "id": "OzamJcu1619r",
    "outputId": "c09ba8bd-745c-4c2a-fd09-c73b1fcfda66"
   },
   "outputs": [
    {
     "name": "stdout",
     "output_type": "stream",
     "text": [
      "28709 train samples\n",
      "3589 test samples\n"
     ]
    }
   ],
   "source": [
    "x_train, y_train, x_test, y_test = [], [], [], []\n",
    "for i in range(1, num_of_instances):\n",
    "    try:\n",
    "        emotion, img, usage = lines[i].split(\",\")\n",
    "        val = img.split(\" \")\n",
    "        pixels = np.array(val,'float32')\n",
    "        emotion = keras.utils.to_categorical(emotion, num_classes)\n",
    "        \n",
    "        if \"Training\" in usage:\n",
    "            x_train.append(pixels)\n",
    "            y_train.append(emotion)\n",
    "        elif \"PublicTest\" in usage:\n",
    "            x_test.append(pixels)\n",
    "            y_test.append(emotion)\n",
    "    except:\n",
    "        print(\"\",end=\"\")\n",
    "x_train = np.array(x_train, 'float32')\n",
    "y_train = np.array(y_train, 'float32')\n",
    "x_test = np.array(x_test, 'float32')\n",
    "y_test = np.array(y_test, 'float32')\n",
    "\n",
    "x_train /= 255 #normalize inputs between [0, 1]\n",
    "x_test /= 255\n",
    "\n",
    "x_train = x_train.reshape(x_train.shape[0], 48, 48, 1)\n",
    "x_train = x_train.astype('float32')\n",
    "x_test = x_test.reshape(x_test.shape[0], 48, 48, 1)\n",
    "x_test = x_test.astype('float32')\n",
    "\n",
    "print(x_train.shape[0], 'train samples')\n",
    "print(x_test.shape[0], 'test samples')"
   ]
  },
  {
   "cell_type": "code",
   "execution_count": 6,
   "metadata": {
    "colab": {
     "base_uri": "https://localhost:8080/",
     "height": 139
    },
    "colab_type": "code",
    "id": "O7xWquiT619y",
    "outputId": "67902b0c-a1c9-4c7a-af2e-18286b69091a"
   },
   "outputs": [
    {
     "name": "stdout",
     "output_type": "stream",
     "text": [
      "WARNING:tensorflow:From /usr/local/lib/python3.6/dist-packages/tensorflow/python/framework/op_def_library.py:263: colocate_with (from tensorflow.python.framework.ops) is deprecated and will be removed in a future version.\n",
      "Instructions for updating:\n",
      "Colocations handled automatically by placer.\n",
      "WARNING:tensorflow:From /usr/local/lib/python3.6/dist-packages/keras/backend/tensorflow_backend.py:3445: calling dropout (from tensorflow.python.ops.nn_ops) with keep_prob is deprecated and will be removed in a future version.\n",
      "Instructions for updating:\n",
      "Please use `rate` instead of `keep_prob`. Rate should be set to `rate = 1 - keep_prob`.\n"
     ]
    }
   ],
   "source": [
    "model = Sequential()\n",
    "\n",
    "#1st convolution layer\n",
    "model.add(Conv2D(64, (5, 5), activation='relu', input_shape=(48,48,1)))\n",
    "model.add(MaxPooling2D(pool_size=(5,5), strides=(2, 2)))\n",
    "\n",
    "#2nd convolution layer\n",
    "model.add(Conv2D(64, (3, 3), activation='relu'))\n",
    "model.add(Conv2D(64, (3, 3), activation='relu'))\n",
    "model.add(AveragePooling2D(pool_size=(3,3), strides=(2, 2)))\n",
    "\n",
    "#3rd convolution layer\n",
    "model.add(Conv2D(128, (3, 3), activation='relu'))\n",
    "model.add(Conv2D(128, (3, 3), activation='relu'))\n",
    "model.add(AveragePooling2D(pool_size=(3,3), strides=(2, 2)))\n",
    "\n",
    "model.add(Flatten())\n",
    "\n",
    "#fully connected neural networks\n",
    "model.add(Dense(1024, activation='relu'))\n",
    "model.add(Dropout(0.2))\n",
    "model.add(Dense(1024, activation='relu'))\n",
    "model.add(Dropout(0.2))\n",
    "\n",
    "model.add(Dense(num_classes, activation='softmax'))"
   ]
  },
  {
   "cell_type": "code",
   "execution_count": 0,
   "metadata": {
    "colab": {},
    "colab_type": "code",
    "id": "berSP8AL6192"
   },
   "outputs": [],
   "source": [
    "gen = ImageDataGenerator()\n",
    "train_generator = gen.flow(x_train, y_train, batch_size=batch_size)"
   ]
  },
  {
   "cell_type": "code",
   "execution_count": 0,
   "metadata": {
    "colab": {},
    "colab_type": "code",
    "id": "V-bIZzA06195"
   },
   "outputs": [],
   "source": [
    "model.compile(loss='categorical_crossentropy'\n",
    "    , optimizer=keras.optimizers.Adam()\n",
    "    , metrics=['accuracy']\n",
    ")"
   ]
  },
  {
   "cell_type": "code",
   "execution_count": 9,
   "metadata": {
    "colab": {
     "base_uri": "https://localhost:8080/",
     "height": 785
    },
    "colab_type": "code",
    "id": "ZRlH2GdI6197",
    "outputId": "9760d55e-a47a-4a4a-9c3d-54daa0445f7c"
   },
   "outputs": [
    {
     "name": "stdout",
     "output_type": "stream",
     "text": [
      "WARNING:tensorflow:From /usr/local/lib/python3.6/dist-packages/tensorflow/python/ops/math_ops.py:3066: to_int32 (from tensorflow.python.ops.math_ops) is deprecated and will be removed in a future version.\n",
      "Instructions for updating:\n",
      "Use tf.cast instead.\n",
      "Epoch 1/20\n",
      "256/256 [==============================] - 11s 42ms/step - loss: 1.7893 - acc: 0.2571\n",
      "Epoch 2/20\n",
      "256/256 [==============================] - 7s 28ms/step - loss: 1.5741 - acc: 0.3779\n",
      "Epoch 3/20\n",
      "256/256 [==============================] - 7s 28ms/step - loss: 1.4087 - acc: 0.4566\n",
      "Epoch 4/20\n",
      "256/256 [==============================] - 7s 28ms/step - loss: 1.3007 - acc: 0.5007\n",
      "Epoch 5/20\n",
      "256/256 [==============================] - 7s 28ms/step - loss: 1.2082 - acc: 0.5396\n",
      "Epoch 6/20\n",
      "256/256 [==============================] - 7s 29ms/step - loss: 1.1412 - acc: 0.5672\n",
      "Epoch 7/20\n",
      "256/256 [==============================] - 7s 28ms/step - loss: 1.0766 - acc: 0.5939\n",
      "Epoch 8/20\n",
      "256/256 [==============================] - 7s 29ms/step - loss: 1.0086 - acc: 0.6197\n",
      "Epoch 9/20\n",
      "256/256 [==============================] - 7s 29ms/step - loss: 0.9453 - acc: 0.6450\n",
      "Epoch 10/20\n",
      "256/256 [==============================] - 7s 28ms/step - loss: 0.8770 - acc: 0.6731\n",
      "Epoch 11/20\n",
      "256/256 [==============================] - 7s 28ms/step - loss: 0.8079 - acc: 0.6993\n",
      "Epoch 12/20\n",
      "256/256 [==============================] - 7s 28ms/step - loss: 0.7523 - acc: 0.7215\n",
      "Epoch 13/20\n",
      "256/256 [==============================] - 7s 28ms/step - loss: 0.6653 - acc: 0.7525\n",
      "Epoch 14/20\n",
      "256/256 [==============================] - 7s 28ms/step - loss: 0.5902 - acc: 0.7815\n",
      "Epoch 15/20\n",
      "256/256 [==============================] - 7s 28ms/step - loss: 0.5455 - acc: 0.7983\n",
      "Epoch 16/20\n",
      "256/256 [==============================] - 7s 28ms/step - loss: 0.4670 - acc: 0.8268\n",
      "Epoch 17/20\n",
      "256/256 [==============================] - 7s 28ms/step - loss: 0.4247 - acc: 0.8442\n",
      "Epoch 18/20\n",
      "256/256 [==============================] - 7s 28ms/step - loss: 0.3738 - acc: 0.8627\n",
      "Epoch 19/20\n",
      "256/256 [==============================] - 7s 29ms/step - loss: 0.3322 - acc: 0.8789\n",
      "Epoch 20/20\n",
      "256/256 [==============================] - 7s 29ms/step - loss: 0.3050 - acc: 0.8881\n"
     ]
    },
    {
     "data": {
      "text/plain": [
       "<keras.callbacks.History at 0x7f2d6de55748>"
      ]
     },
     "execution_count": 9,
     "metadata": {
      "tags": []
     },
     "output_type": "execute_result"
    }
   ],
   "source": [
    "model.fit_generator(train_generator, steps_per_epoch=batch_size, epochs=epochs) #train for randomly selected one"
   ]
  },
  {
   "cell_type": "code",
   "execution_count": 10,
   "metadata": {
    "colab": {
     "base_uri": "https://localhost:8080/",
     "height": 68
    },
    "colab_type": "code",
    "id": "_k73EtnCGl03",
    "outputId": "11567f84-6d3c-4d29-9337-5504a9ac9194"
   },
   "outputs": [
    {
     "name": "stdout",
     "output_type": "stream",
     "text": [
      "3589/3589 [==============================] - 0s 106us/step\n",
      "Test loss: 2.3328743946854535\n",
      "Test accuracy: 56.53385344190032\n"
     ]
    }
   ],
   "source": [
    "score = model.evaluate(x_test, y_test)\n",
    "print('Test loss:', score[0])\n",
    "print('Test accuracy:', 100*score[1])"
   ]
  },
  {
   "cell_type": "code",
   "execution_count": 0,
   "metadata": {
    "colab": {},
    "colab_type": "code",
    "id": "6bThnGx2P799"
   },
   "outputs": [],
   "source": [
    "model.save('model.h5')"
   ]
  }
 ],
 "metadata": {
  "accelerator": "GPU",
  "colab": {
   "collapsed_sections": [],
   "name": "RealtimeFacialExpression.ipynb",
   "provenance": [],
   "version": "0.3.2"
  },
  "kernelspec": {
   "display_name": "Python 3",
   "language": "python",
   "name": "python3"
  },
  "language_info": {
   "codemirror_mode": {
    "name": "ipython",
    "version": 3
   },
   "file_extension": ".py",
   "mimetype": "text/x-python",
   "name": "python",
   "nbconvert_exporter": "python",
   "pygments_lexer": "ipython3",
   "version": "3.7.3"
  }
 },
 "nbformat": 4,
 "nbformat_minor": 1
}
